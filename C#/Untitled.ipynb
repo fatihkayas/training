{
 "cells": [
  {
   "cell_type": "code",
   "execution_count": 1,
   "id": "aae90291-ef8b-4bfa-ac6d-d5f2927bfd5f",
   "metadata": {
    "dotnet_interactive": {
     "language": "csharp"
    },
    "polyglot_notebook": {
     "kernelName": "csharp"
    },
    "vscode": {
     "languageId": "polyglot-notebook"
    }
   },
   "outputs": [
    {
     "ename": "Error",
     "evalue": "(1,9): error CS0117: 'Console' does not contain a definition for 'Writeline'",
     "output_type": "error",
     "traceback": [
      "(1,9): error CS0117: 'Console' does not contain a definition for 'Writeline'"
     ]
    }
   ],
   "source": [
    "Console.Writeline(\"Hello\");"
   ]
  },
  {
   "cell_type": "code",
   "execution_count": 2,
   "id": "fc885509",
   "metadata": {
    "dotnet_interactive": {
     "language": "csharp"
    },
    "polyglot_notebook": {
     "kernelName": "csharp"
    },
    "vscode": {
     "languageId": "polyglot-notebook"
    }
   },
   "outputs": [
    {
     "name": "stdout",
     "output_type": "stream",
     "text": [
      "Sum: 12\n",
      "Difference: 2\n",
      "Product: 35\n",
      "Quotient: 1\n"
     ]
    }
   ],
   "source": [
    "int sum = 7 + 5;\n",
    "int difference = 7 - 5;\n",
    "int product = 7 * 5;\n",
    "int quotient = 7 / 5;\n",
    "\n",
    "Console.WriteLine(\"Sum: \" + sum);\n",
    "Console.WriteLine(\"Difference: \" + difference);\n",
    "Console.WriteLine(\"Product: \" + product);\n",
    "Console.WriteLine(\"Quotient: \" + quotient);"
   ]
  },
  {
   "cell_type": "markdown",
   "id": "295190b1",
   "metadata": {},
   "source": [
    "# Add code to perform division using literal decimal data\n"
   ]
  },
  {
   "cell_type": "code",
   "execution_count": 5,
   "id": "495d8721",
   "metadata": {
    "dotnet_interactive": {
     "language": "csharp"
    },
    "polyglot_notebook": {
     "kernelName": "csharp"
    },
    "vscode": {
     "languageId": "polyglot-notebook"
    }
   },
   "outputs": [
    {
     "name": "stdout",
     "output_type": "stream",
     "text": [
      "Decimal quotient: {decimalQuotient}\n"
     ]
    }
   ],
   "source": [
    "decimal decimalQuotient = 7.0m / 5;\n",
    "Console.WriteLine(\"Decimal quotient: {decimalQuotient}\");"
   ]
  },
  {
   "cell_type": "markdown",
   "id": "42a7854e",
   "metadata": {},
   "source": [
    "# Write code to determine the remainder after integer division\n",
    "The modulus operator % tells you the remainder of int division. What you really learn from this is whether one number is divisible by another. This can be useful during long processing operations when looping through hundreds or thousands of data records and you want to provide feedback to the end user after every 100 data records have been processed."
   ]
  },
  {
   "cell_type": "code",
   "execution_count": 6,
   "id": "f782cab8",
   "metadata": {
    "dotnet_interactive": {
     "language": "csharp"
    },
    "polyglot_notebook": {
     "kernelName": "csharp"
    },
    "vscode": {
     "languageId": "polyglot-notebook"
    }
   },
   "outputs": [
    {
     "name": "stdout",
     "output_type": "stream",
     "text": [
      "Modulus of 200 / 5 : 0\n",
      "Modulus of 7 / 5 : 2\n"
     ]
    }
   ],
   "source": [
    "Console.WriteLine($\"Modulus of 200 / 5 : {200 % 5}\");\n",
    "Console.WriteLine($\"Modulus of 7 / 5 : {7 % 5}\");"
   ]
  },
  {
   "cell_type": "code",
   "execution_count": 7,
   "id": "d92ab92d",
   "metadata": {
    "dotnet_interactive": {
     "language": "csharp"
    },
    "polyglot_notebook": {
     "kernelName": "csharp"
    },
    "vscode": {
     "languageId": "polyglot-notebook"
    }
   },
   "outputs": [],
   "source": [
    "int value = 0;     // value is now 0.\n",
    "value = value + 5; // value is now 5.\n",
    "value + 5;        // value is now 10."
   ]
  },
  {
   "cell_type": "code",
   "execution_count": null,
   "id": "4bd09e1f",
   "metadata": {
    "dotnet_interactive": {
     "language": "csharp"
    },
    "polyglot_notebook": {
     "kernelName": "csharp"
    },
    "vscode": {
     "languageId": "polyglot-notebook"
    }
   },
   "outputs": [],
   "source": []
  },
  {
   "cell_type": "markdown",
   "id": "1321c046",
   "metadata": {},
   "source": [
    "# Write code to increment and decrement a value\n"
   ]
  },
  {
   "cell_type": "code",
   "execution_count": 9,
   "id": "06df2275",
   "metadata": {
    "dotnet_interactive": {
     "language": "csharp"
    },
    "polyglot_notebook": {
     "kernelName": "csharp"
    },
    "vscode": {
     "languageId": "polyglot-notebook"
    }
   },
   "outputs": [
    {
     "name": "stdout",
     "output_type": "stream",
     "text": [
      "First increment: 2\n"
     ]
    }
   ],
   "source": [
    "int value = 1;\n",
    "value = value + 1;\n",
    "Console.WriteLine(\"First increment: \" + value);"
   ]
  },
  {
   "cell_type": "code",
   "execution_count": 14,
   "id": "831c8ed6",
   "metadata": {
    "dotnet_interactive": {
     "language": "csharp"
    },
    "polyglot_notebook": {
     "kernelName": "csharp"
    },
    "vscode": {
     "languageId": "polyglot-notebook"
    }
   },
   "outputs": [
    {
     "name": "stdout",
     "output_type": "stream",
     "text": [
      "Second increment: 10\n",
      "Third increment: 11\n"
     ]
    }
   ],
   "source": [
    "value += 1;\n",
    "Console.WriteLine(\"Second increment: \" + value);\n",
    "\n",
    "value++;\n",
    "Console.WriteLine(\"Third increment: \" + value);"
   ]
  },
  {
   "cell_type": "code",
   "execution_count": 15,
   "id": "77e60da8",
   "metadata": {
    "dotnet_interactive": {
     "language": "csharp"
    },
    "polyglot_notebook": {
     "kernelName": "csharp"
    },
    "vscode": {
     "languageId": "polyglot-notebook"
    }
   },
   "outputs": [
    {
     "name": "stdout",
     "output_type": "stream",
     "text": [
      "Second decrement: 10\n",
      "Third decrement: 9\n"
     ]
    }
   ],
   "source": [
    "value -= 1;\n",
    "Console.WriteLine(\"Second decrement: \" + value);\n",
    "\n",
    "value--;\n",
    "Console.WriteLine(\"Third decrement: \" + value);"
   ]
  },
  {
   "cell_type": "code",
   "execution_count": null,
   "id": "1d48a867",
   "metadata": {
    "dotnet_interactive": {
     "language": "csharp"
    },
    "polyglot_notebook": {
     "kernelName": "csharp"
    },
    "vscode": {
     "languageId": "polyglot-notebook"
    }
   },
   "outputs": [],
   "source": [
    "int value = 1;\n",
    "value++;\n",
    "Console.WriteLine(\"First: \" + value);\n",
    "Console.WriteLine($\"Second: {value++}\");\n",
    "Console.WriteLine(\"Third: \" + value);\n",
    "Console.WriteLine(\"Fourth: \" + (++value));"
   ]
  },
  {
   "cell_type": "code",
   "execution_count": 16,
   "id": "278855e8",
   "metadata": {
    "dotnet_interactive": {
     "language": "csharp"
    },
    "polyglot_notebook": {
     "kernelName": "csharp"
    },
    "vscode": {
     "languageId": "polyglot-notebook"
    }
   },
   "outputs": [
    {
     "name": "stdout",
     "output_type": "stream",
     "text": [
      "Temperature in Celsius: 34\n"
     ]
    }
   ],
   "source": [
    "int fahrenheit = 94;\n",
    "int celsius = (fahrenheit - 32) * 5 / 9;\n",
    "Console.WriteLine(\"Temperature in Celsius: \" + celsius);"
   ]
  }
 ],
 "metadata": {
  "kernelspec": {
   "display_name": ".NET (C#)",
   "language": "C#",
   "name": ".net-csharp"
  },
  "language_info": {
   "file_extension": ".cs",
   "mimetype": "text/x-csharp",
   "name": "C#",
   "pygments_lexer": "csharp",
   "version": "12.0"
  },
  "polyglot_notebook": {
   "kernelInfo": {
    "defaultKernelName": "csharp",
    "items": [
     {
      "aliases": [],
      "name": "csharp"
     }
    ]
   }
  }
 },
 "nbformat": 4,
 "nbformat_minor": 5
}
